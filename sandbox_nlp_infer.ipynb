{
 "cells": [
  {
   "cell_type": "code",
   "execution_count": 1,
   "metadata": {},
   "outputs": [
    {
     "name": "stdout",
     "output_type": "stream",
     "text": [
      "WARNING:tensorflow:From c:\\ProgramData\\anaconda3\\envs\\secondphase\\lib\\site-packages\\keras\\src\\losses.py:2976: The name tf.losses.sparse_softmax_cross_entropy is deprecated. Please use tf.compat.v1.losses.sparse_softmax_cross_entropy instead.\n",
      "\n"
     ]
    }
   ],
   "source": [
    "from keras.models import load_model\n",
    "import pickle\n",
    "\n",
    "import numpy as np\n",
    "import tensorflow as tf\n",
    "from keras.preprocessing.sequence import pad_sequences\n",
    "from keras.models import load_model\n",
    "\n",
    "import re\n",
    "from nltk.tokenize import word_tokenize\n",
    "from nltk.stem import WordNetLemmatizer\n",
    "from nltk.corpus import stopwords\n",
    "from nltk import download\n",
    "from keras.preprocessing.text import Tokenizer\n",
    "from keras.backend import clear_session\n",
    "\n",
    "\n",
    "import contractions"
   ]
  },
  {
   "cell_type": "code",
   "execution_count": 2,
   "metadata": {},
   "outputs": [
    {
     "name": "stderr",
     "output_type": "stream",
     "text": [
      "[nltk_data] Downloading package punkt to C:\\Users\\Niko Amrullah\n",
      "[nltk_data]     Hakam\\AppData\\Roaming\\nltk_data...\n",
      "[nltk_data]   Package punkt is already up-to-date!\n",
      "[nltk_data] Downloading package stopwords to C:\\Users\\Niko Amrullah\n",
      "[nltk_data]     Hakam\\AppData\\Roaming\\nltk_data...\n",
      "[nltk_data]   Package stopwords is already up-to-date!\n",
      "[nltk_data] Downloading package punkt_tab to C:\\Users\\Niko Amrullah\n",
      "[nltk_data]     Hakam\\AppData\\Roaming\\nltk_data...\n",
      "[nltk_data]   Package punkt_tab is already up-to-date!\n",
      "[nltk_data] Downloading package wordnet to C:\\Users\\Niko Amrullah\n",
      "[nltk_data]     Hakam\\AppData\\Roaming\\nltk_data...\n",
      "[nltk_data]   Package wordnet is already up-to-date!\n"
     ]
    },
    {
     "data": {
      "text/plain": [
       "True"
      ]
     },
     "execution_count": 2,
     "metadata": {},
     "output_type": "execute_result"
    }
   ],
   "source": [
    "download('punkt')\n",
    "download('stopwords')\n",
    "download('punkt_tab')\n",
    "download('wordnet')"
   ]
  },
  {
   "cell_type": "code",
   "execution_count": 3,
   "metadata": {},
   "outputs": [
    {
     "name": "stdout",
     "output_type": "stream",
     "text": [
      "WARNING:tensorflow:From c:\\ProgramData\\anaconda3\\envs\\secondphase\\lib\\site-packages\\keras\\src\\backend.py:277: The name tf.reset_default_graph is deprecated. Please use tf.compat.v1.reset_default_graph instead.\n",
      "\n"
     ]
    }
   ],
   "source": [
    "clear_session()"
   ]
  },
  {
   "cell_type": "code",
   "execution_count": 4,
   "metadata": {},
   "outputs": [
    {
     "name": "stdout",
     "output_type": "stream",
     "text": [
      "WARNING:tensorflow:From c:\\ProgramData\\anaconda3\\envs\\secondphase\\lib\\site-packages\\keras\\src\\saving\\legacy\\saved_model\\load.py:107: The name tf.gfile.Exists is deprecated. Please use tf.io.gfile.exists instead.\n",
      "\n",
      "Model loaded from 'model' directory\n"
     ]
    }
   ],
   "source": [
    "# Load the model\n",
    "loaded_model = load_model('model')\n",
    "print(\"Model loaded from 'model' directory\")"
   ]
  },
  {
   "cell_type": "code",
   "execution_count": 5,
   "metadata": {},
   "outputs": [
    {
     "name": "stdout",
     "output_type": "stream",
     "text": [
      "Tokenizer loaded from 'tokenizer.pkl'\n"
     ]
    }
   ],
   "source": [
    "with open('tokenizer.pkl', 'rb') as f:\n",
    "    loaded_tokenizer = pickle.load(f)\n",
    "print(\"Tokenizer loaded from 'tokenizer.pkl'\")"
   ]
  },
  {
   "cell_type": "code",
   "execution_count": 6,
   "metadata": {},
   "outputs": [],
   "source": [
    "# Initialize stopwords and stemmer\n",
    "stpwds_en = list(set(stopwords.words('english')))\n",
    "\n",
    "# init lemmitizer\n",
    "lemmatizer = WordNetLemmatizer()\n",
    "\n",
    "stpwds_en.append([\"i\", \"to\", \"and\", \"my\", \"of\", \"the\", \"is\", \"have\", \"it\", \"in\"])\n",
    "\n",
    "\n",
    "def text_preprocessing(text):\n",
    "    # Expand contractions\n",
    "    text = contractions.fix(text)\n",
    "\n",
    "    # Case folding\n",
    "    text = text.lower()\n",
    "\n",
    "    # Mention removal\n",
    "    text = re.sub(r\"@[A-Za-z0-9_]+\", \" \", text)\n",
    "\n",
    "    # Hashtag removal\n",
    "    text = re.sub(r\"#[A-Za-z0-9_]+\", \" \", text)\n",
    "\n",
    "    # Newline removal (\\n)\n",
    "    text = re.sub(r\"\\\\n\", \" \", text)\n",
    "\n",
    "    # Whitespace removal\n",
    "    text = text.strip()\n",
    "\n",
    "    # URL removal\n",
    "    text = re.sub(r\"http\\S+\", \" \", text)\n",
    "    text = re.sub(r\"www.\\S+\", \" \", text)\n",
    "\n",
    "    # Non-letter removal (retain apostrophes)\n",
    "    text = re.sub(r\"[^A-Za-z\\s']\", \" \", text)\n",
    "\n",
    "    # Tokenization\n",
    "    tokens = word_tokenize(text)\n",
    "\n",
    "    # Stopwords removal\n",
    "    tokens = [word for word in tokens if word not in stpwds_en or word in {\"not\", \"no\", \"never\", \"cannot\", \"still\"}]\n",
    "\n",
    "    # Lemmatization\n",
    "    tokens = [lemmatizer.lemmatize(word) for word in tokens]\n",
    "\n",
    "    # Combine tokens\n",
    "    text = ' '.join(tokens)\n",
    "\n",
    "    return text\n"
   ]
  },
  {
   "cell_type": "code",
   "execution_count": 7,
   "metadata": {},
   "outputs": [],
   "source": [
    "# New data for inference\n",
    "new_texts = [\"I feel really anxious and stressed.\", \n",
    "             \"Life is going great, feeling very happy today. I have work to do but I am excited to do it.\",\n",
    "             \"This is it. I am done. I am not doing this anymore. I am tired of this.\",\n",
    "             \"I'm really happy today\"]\n",
    "\n",
    "# Preprocess text\n",
    "preprocessed_texts = [text_preprocessing(text) for text in new_texts]\n",
    "\n",
    "# Convert to sequences using the loaded tokenizer\n",
    "sequences = loaded_tokenizer.texts_to_sequences(preprocessed_texts)\n",
    "\n",
    "# Pad sequences to the same length as used during training\n",
    "max_len = 180  # Use the same `max_len` from training\n",
    "padded_sequences = pad_sequences(sequences, maxlen=max_len, padding='post', truncating='post')"
   ]
  },
  {
   "cell_type": "code",
   "execution_count": 8,
   "metadata": {},
   "outputs": [
    {
     "name": "stdout",
     "output_type": "stream",
     "text": [
      "(None, 180)\n"
     ]
    }
   ],
   "source": [
    "print(loaded_model.input_shape)"
   ]
  },
  {
   "cell_type": "code",
   "execution_count": 9,
   "metadata": {},
   "outputs": [
    {
     "name": "stdout",
     "output_type": "stream",
     "text": [
      "1/1 [==============================] - 0s 312ms/step\n",
      "Predicted Classes: [0 3 6 3]\n"
     ]
    }
   ],
   "source": [
    "# Make predictions\n",
    "predictions = loaded_model.predict(padded_sequences)\n",
    "\n",
    "# Output the predicted class (index of the highest probability)\n",
    "predicted_classes = np.argmax(predictions, axis=1)\n",
    "\n",
    "print(\"Predicted Classes:\", predicted_classes)"
   ]
  },
  {
   "cell_type": "markdown",
   "metadata": {},
   "source": [
    "Label Mapping: {'Anxiety': 0, 'Bipolar': 1, 'Depression': 2, 'Normal': 3, 'Personality disorder': 4, 'Stress': 5, 'Suicidal': 6}"
   ]
  },
  {
   "cell_type": "code",
   "execution_count": 10,
   "metadata": {},
   "outputs": [
    {
     "name": "stdout",
     "output_type": "stream",
     "text": [
      "Predicted Labels: ['Anxiety', 'Normal', 'Suicidal', 'Normal']\n"
     ]
    }
   ],
   "source": [
    "# Correct class labels\n",
    "class_labels = {\n",
    "    0: 'Anxiety', \n",
    "    1: 'Bipolar', \n",
    "    2: 'Depression', \n",
    "    3: 'Normal', \n",
    "    4: 'Personality disorder', \n",
    "    5: 'Stress', \n",
    "    6: 'Suicidal'\n",
    "}\n",
    "\n",
    "# Map predicted classes to their labels\n",
    "predicted_labels = [class_labels[cls] for cls in predicted_classes]\n",
    "print(\"Predicted Labels:\", predicted_labels)"
   ]
  },
  {
   "cell_type": "code",
   "execution_count": 12,
   "metadata": {},
   "outputs": [
    {
     "name": "stderr",
     "output_type": "stream",
     "text": [
      "c:\\ProgramData\\anaconda3\\envs\\secondphase\\lib\\site-packages\\keras\\src\\engine\\training.py:3103: UserWarning: You are saving your model as an HDF5 file via `model.save()`. This file format is considered legacy. We recommend using instead the native Keras format, e.g. `model.save('my_model.keras')`.\n",
      "  saving_api.save_model(\n"
     ]
    }
   ],
   "source": [
    "loaded_model.save('model.h5')"
   ]
  }
 ],
 "metadata": {
  "kernelspec": {
   "display_name": "secondphase",
   "language": "python",
   "name": "python3"
  },
  "language_info": {
   "codemirror_mode": {
    "name": "ipython",
    "version": 3
   },
   "file_extension": ".py",
   "mimetype": "text/x-python",
   "name": "python",
   "nbconvert_exporter": "python",
   "pygments_lexer": "ipython3",
   "version": "3.9.21"
  }
 },
 "nbformat": 4,
 "nbformat_minor": 2
}
